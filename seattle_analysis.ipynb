{
 "cells": [
  {
   "cell_type": "code",
   "execution_count": 1,
   "metadata": {
    "collapsed": false
   },
   "outputs": [],
   "source": [
    "import csv\n",
    "import matplotlib.pyplot as pyplot\n",
    "\n",
    "input_file = open('seattle_incidents_summer_2014.csv', 'r', newline='')\n",
    "data_st = csv.reader(input_file)\n",
    "\n",
    "kcounter = 0\n",
    "fraud_vector = []\n",
    "vehicle_vector = []\n",
    "for line in data_st:\n",
    "    kcounter = kcounter + 1\n",
    "#skip header\n",
    "    if (kcounter > 1):\n",
    "        [var1,var2,var3,var4,var5,var6,offens,var8,date_start,var10,var11,var12,var13,var14,var15,var16,var17,var18,var19] = line\n",
    "#obtain time\n",
    "        [day,time0,ampm] = date_start.split()\n",
    "        [hour,minutes,sec] = time0.split(\":\")\n",
    "        minutes = float(minutes)/60\n",
    "        hour = float(hour) + minutes\n",
    "        if (hour == 12 and ampm == \"AM\"):\n",
    "            hour = 24\n",
    "        if(hour != 12 and ampm == \"PM\"):\n",
    "            hour = hour + 12\n",
    "#count number of frauds on each time frame:\n",
    "#late night: 12AM - 07AM\n",
    "#morning: 07AM - 12PM\n",
    "#noon: 12PM - 2PM\n",
    "#afternoon: 2PM - 4PM\n",
    "#evening: 4PM - 9PM\n",
    "#night: 9PM - 12PM\n",
    "\n",
    "        if (offens == \"FRAUD\"):\n",
    "            fraud_vector.append(hour)\n",
    "        if (offens == \"VEHICLE THEFT\"):\n",
    "            vehicle_vector.append(hour)\n",
    "             \n",
    "input_file.close()\n",
    "del input_file\n",
    "\n",
    "png_file = open('histo.png', 'wb')\n",
    "pyplot.hist([fraud_vector,vehicle_vector],bins=[0, 2, 4, 6, 8, 10, 12, 14, 16, 18, 20 ,22, 24],label=['Fraud','Vehicle theft'])\n",
    "pyplot.title('Number of offenses vs. hour of the day')\n",
    "pyplot.xlabel('Hour of the day')\n",
    "pyplot.ylabel('Number of offenses')\n",
    "pyplot.legend(loc='upper left')\n",
    "pyplot.savefig('histo.png')\n",
    "png_file.close()\n"
   ]
  }
 ],
 "metadata": {
  "anaconda-cloud": {},
  "kernelspec": {
   "display_name": "Python [default]",
   "language": "python",
   "name": "python3"
  },
  "language_info": {
   "codemirror_mode": {
    "name": "ipython",
    "version": 3
   },
   "file_extension": ".py",
   "mimetype": "text/x-python",
   "name": "python",
   "nbconvert_exporter": "python",
   "pygments_lexer": "ipython3",
   "version": "3.5.2"
  }
 },
 "nbformat": 4,
 "nbformat_minor": 1
}
